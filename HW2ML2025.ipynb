{
 "cells": [
  {
   "cell_type": "markdown",
   "id": "f5f8d4ac-d7c2-4cba-b9c7-ade7ec832af5",
   "metadata": {},
   "source": [
    "The goal of this homework is to create a regression model for predicting the car fuel efficiency (column `'fuel_efficiency_mpg'`).\n",
    "\n",
    "### Preparing the dataset \n",
    "\n",
    "Use only the following columns:\n",
    "\n",
    "* `'engine_displacement'`,\n",
    "* `'horsepower'`,\n",
    "* `'vehicle_weight'`,\n",
    "* `'model_year'`,\n",
    "* `'fuel_efficiency_mpg'`"
   ]
  },
  {
   "cell_type": "code",
   "execution_count": 3,
   "id": "f7d494d7-5d82-4eac-8663-cbf75dd2e7e9",
   "metadata": {},
   "outputs": [
    {
     "data": {
      "text/html": [
       "<div>\n",
       "<style scoped>\n",
       "    .dataframe tbody tr th:only-of-type {\n",
       "        vertical-align: middle;\n",
       "    }\n",
       "\n",
       "    .dataframe tbody tr th {\n",
       "        vertical-align: top;\n",
       "    }\n",
       "\n",
       "    .dataframe thead th {\n",
       "        text-align: right;\n",
       "    }\n",
       "</style>\n",
       "<table border=\"1\" class=\"dataframe\">\n",
       "  <thead>\n",
       "    <tr style=\"text-align: right;\">\n",
       "      <th></th>\n",
       "      <th>engine_displacement</th>\n",
       "      <th>horsepower</th>\n",
       "      <th>vehicle_weight</th>\n",
       "      <th>model_year</th>\n",
       "      <th>fuel_efficiency_mpg</th>\n",
       "    </tr>\n",
       "  </thead>\n",
       "  <tbody>\n",
       "    <tr>\n",
       "      <th>0</th>\n",
       "      <td>170</td>\n",
       "      <td>159.0</td>\n",
       "      <td>3413.433759</td>\n",
       "      <td>2003</td>\n",
       "      <td>13.231729</td>\n",
       "    </tr>\n",
       "    <tr>\n",
       "      <th>1</th>\n",
       "      <td>130</td>\n",
       "      <td>97.0</td>\n",
       "      <td>3149.664934</td>\n",
       "      <td>2007</td>\n",
       "      <td>13.688217</td>\n",
       "    </tr>\n",
       "    <tr>\n",
       "      <th>2</th>\n",
       "      <td>170</td>\n",
       "      <td>78.0</td>\n",
       "      <td>3079.038997</td>\n",
       "      <td>2018</td>\n",
       "      <td>14.246341</td>\n",
       "    </tr>\n",
       "    <tr>\n",
       "      <th>3</th>\n",
       "      <td>220</td>\n",
       "      <td>NaN</td>\n",
       "      <td>2542.392402</td>\n",
       "      <td>2009</td>\n",
       "      <td>16.912736</td>\n",
       "    </tr>\n",
       "    <tr>\n",
       "      <th>4</th>\n",
       "      <td>210</td>\n",
       "      <td>140.0</td>\n",
       "      <td>3460.870990</td>\n",
       "      <td>2009</td>\n",
       "      <td>12.488369</td>\n",
       "    </tr>\n",
       "    <tr>\n",
       "      <th>...</th>\n",
       "      <td>...</td>\n",
       "      <td>...</td>\n",
       "      <td>...</td>\n",
       "      <td>...</td>\n",
       "      <td>...</td>\n",
       "    </tr>\n",
       "    <tr>\n",
       "      <th>9699</th>\n",
       "      <td>140</td>\n",
       "      <td>164.0</td>\n",
       "      <td>2981.107371</td>\n",
       "      <td>2013</td>\n",
       "      <td>15.101802</td>\n",
       "    </tr>\n",
       "    <tr>\n",
       "      <th>9700</th>\n",
       "      <td>180</td>\n",
       "      <td>154.0</td>\n",
       "      <td>2439.525729</td>\n",
       "      <td>2004</td>\n",
       "      <td>17.962326</td>\n",
       "    </tr>\n",
       "    <tr>\n",
       "      <th>9701</th>\n",
       "      <td>220</td>\n",
       "      <td>138.0</td>\n",
       "      <td>2583.471318</td>\n",
       "      <td>2008</td>\n",
       "      <td>17.186587</td>\n",
       "    </tr>\n",
       "    <tr>\n",
       "      <th>9702</th>\n",
       "      <td>230</td>\n",
       "      <td>177.0</td>\n",
       "      <td>2905.527390</td>\n",
       "      <td>2011</td>\n",
       "      <td>15.331551</td>\n",
       "    </tr>\n",
       "    <tr>\n",
       "      <th>9703</th>\n",
       "      <td>270</td>\n",
       "      <td>140.0</td>\n",
       "      <td>2908.043477</td>\n",
       "      <td>2005</td>\n",
       "      <td>14.884467</td>\n",
       "    </tr>\n",
       "  </tbody>\n",
       "</table>\n",
       "<p>9704 rows × 5 columns</p>\n",
       "</div>"
      ],
      "text/plain": [
       "      engine_displacement  horsepower  vehicle_weight  model_year  \\\n",
       "0                     170       159.0     3413.433759        2003   \n",
       "1                     130        97.0     3149.664934        2007   \n",
       "2                     170        78.0     3079.038997        2018   \n",
       "3                     220         NaN     2542.392402        2009   \n",
       "4                     210       140.0     3460.870990        2009   \n",
       "...                   ...         ...             ...         ...   \n",
       "9699                  140       164.0     2981.107371        2013   \n",
       "9700                  180       154.0     2439.525729        2004   \n",
       "9701                  220       138.0     2583.471318        2008   \n",
       "9702                  230       177.0     2905.527390        2011   \n",
       "9703                  270       140.0     2908.043477        2005   \n",
       "\n",
       "      fuel_efficiency_mpg  \n",
       "0               13.231729  \n",
       "1               13.688217  \n",
       "2               14.246341  \n",
       "3               16.912736  \n",
       "4               12.488369  \n",
       "...                   ...  \n",
       "9699            15.101802  \n",
       "9700            17.962326  \n",
       "9701            17.186587  \n",
       "9702            15.331551  \n",
       "9703            14.884467  \n",
       "\n",
       "[9704 rows x 5 columns]"
      ]
     },
     "execution_count": 3,
     "metadata": {},
     "output_type": "execute_result"
    }
   ],
   "source": [
    "import pandas as pd\n",
    "df = pd.read_csv(\"car_fuel_efficiency.csv\")\n",
    "df=df[['engine_displacement','horsepower','vehicle_weight','model_year','fuel_efficiency_mpg']]\n",
    "df"
   ]
  },
  {
   "cell_type": "markdown",
   "id": "b84bdd9e-1b93-40c4-b238-aee6d1412f2f",
   "metadata": {},
   "source": [
    "### EDA\n",
    "\n",
    "* Look at the `fuel_efficiency_mpg` variable. Does it have a long tail? \n"
   ]
  },
  {
   "cell_type": "code",
   "execution_count": 5,
   "id": "c609afe9-1deb-490e-aa24-04bcf3a9473b",
   "metadata": {},
   "outputs": [
    {
     "data": {
      "image/png": "[encoded data removed]",
      "text/plain": [
       "<Figure size 1500x1000 with 5 Axes>"
      ]
     },
     "metadata": {},
     "output_type": "display_data"
    }
   ],
   "source": [
    "import matplotlib.pyplot as plt\n",
    "import seaborn as sns\n",
    "\n",
    "cols = ['engine_displacement','horsepower','vehicle_weight','model_year','fuel_efficiency_mpg']\n",
    "plt.figure(figsize=(15, 10))\n",
    "\n",
    "for i, col in enumerate(cols):\n",
    "    plt.subplot(2, 3, i+1)\n",
    "    sns.histplot(df[col], bins=50)\n",
    "    plt.title(f'Distribution of {col}')\n",
    "    plt.xlabel(col)\n",
    "    plt.ylabel('Frequency')\n",
    "\n",
    "plt.tight_layout()\n",
    "plt.show()"
   ]
  },
  {
   "cell_type": "code",
   "execution_count": 6,
   "id": "f5488251-8b6f-4730-ad96-f5719ec03a7a",
   "metadata": {},
   "outputs": [
    {
     "data": {
      "text/plain": [
       "<Axes: xlabel='fuel_efficiency_mpg', ylabel='Count'>"
      ]
     },
     "execution_count": 6,
     "metadata": {},
     "output_type": "execute_result"
    },
    {
     "data": {
      "image/png": "[encoded data removed]",
      "text/plain": [
       "<Figure size 640x480 with 1 Axes>"
      ]
     },
     "metadata": {},
     "output_type": "display_data"
    }
   ],
   "source": [
    "import seaborn as sns\n",
    "sns.histplot(df.fuel_efficiency_mpg,bins=50)"
   ]
  },
  {
   "cell_type": "markdown",
   "id": "19d2fb2d-0a24-4ca5-9fff-62591b3c1af6",
   "metadata": {},
   "source": [
    "### Question 1\n",
    "\n",
    "There's one column with missing values. What is it?\n",
    "\n",
    "* `'engine_displacement'`\n",
    "* `'horsepower'`\n",
    "* `'vehicle_weight'`\n",
    "* `'model_year'`\n"
   ]
  },
  {
   "cell_type": "code",
   "execution_count": 7,
   "id": "1cab05ed-6700-496d-ad3d-21ed4b09a342",
   "metadata": {},
   "outputs": [
    {
     "name": "stdout",
     "output_type": "stream",
     "text": [
      "engine_displacement\n",
      "0\n",
      "horsepower\n",
      "708\n",
      "vehicle_weight\n",
      "0\n",
      "model_year\n",
      "0\n"
     ]
    }
   ],
   "source": [
    "import pandas as pd\n",
    "for c in ['engine_displacement','horsepower','vehicle_weight','model_year']:\n",
    "    print(c)\n",
    "    print(df[c].isnull().sum())\n"
   ]
  },
  {
   "cell_type": "markdown",
   "id": "8eaf1e25-90af-4d22-9425-22446616aab8",
   "metadata": {},
   "source": [
    "##### Answer Question 1: column \"horsepower\""
   ]
  },
  {
   "cell_type": "markdown",
   "id": "88166470-235d-438c-a56f-cfedc9d57260",
   "metadata": {},
   "source": [
    "### Question 2\n",
    "\n",
    "What's the median (50% percentile) for variable `'horsepower'`?\n",
    "\n",
    "- 49\n",
    "- 99\n",
    "- 149\n",
    "- 199"
   ]
  },
  {
   "cell_type": "code",
   "execution_count": 8,
   "id": "6b66432b-5df0-4a92-b4c3-fea503e9f493",
   "metadata": {},
   "outputs": [
    {
     "data": {
      "text/plain": [
       "149.0"
      ]
     },
     "execution_count": 8,
     "metadata": {},
     "output_type": "execute_result"
    }
   ],
   "source": [
    "df['horsepower'].median()\n"
   ]
  },
  {
   "cell_type": "markdown",
   "id": "b59409bf-4810-4f7a-b168-ca849e186ee1",
   "metadata": {},
   "source": [
    "##### Answer Question 2: 149.0"
   ]
  },
  {
   "cell_type": "markdown",
   "id": "36efdefc-c211-4a12-afb7-35437c017b27",
   "metadata": {},
   "source": [
    "### Question 3\n",
    "\n",
    "* We need to deal with missing values for the column from Q1.\n",
    "* We have two options: fill it with 0 or with the mean of this variable.\n",
    "* Try both options. For each, train a linear regression model without regularization using the code from the lessons.\n",
    "* For computing the mean, use the training only!\n",
    "* Use the validation dataset to evaluate the models and compare the RMSE of each option.\n",
    "* Round the RMSE scores to 2 decimal digits using `round(score, 2)`\n",
    "* Which option gives better RMSE?\n",
    "\n",
    "Options:\n",
    "\n",
    "- With 0\n",
    "- With mean\n",
    "- Both are equally good\n"
   ]
  },
  {
   "cell_type": "markdown",
   "id": "17b2299c-0be8-48a6-bac0-ac5c10d27709",
   "metadata": {},
   "source": [
    "### MODEL 1 (with 0)"
   ]
  },
  {
   "cell_type": "code",
   "execution_count": 10,
   "id": "810df4af-83f7-4ca3-b47e-8d88d7f12976",
   "metadata": {},
   "outputs": [
    {
     "data": {
      "text/plain": [
       "(0.5173782638857467, 0.52)"
      ]
     },
     "execution_count": 10,
     "metadata": {},
     "output_type": "execute_result"
    }
   ],
   "source": [
    "import numpy as np\n",
    "def rmse(y, y_pred):\n",
    "    error=y-y_pred\n",
    "    se=error**2\n",
    "    mse=se.mean()\n",
    "    return np.sqrt(mse)\n",
    "\n",
    "def train_linear_regression(X,y):\n",
    "    ones=np.ones(X.shape[0])\n",
    "    X=np.column_stack([ones,X])\n",
    "    XTX=X.T.dot(X)\n",
    "    XTX_inv=np.linalg.inv(XTX)\n",
    "    w_full=XTX_inv.dot(X.T).dot(y)\n",
    "    return w_full[0],w_full[1:]\n",
    "\n",
    "\n",
    "\n",
    "df_model=df.copy()\n",
    "df_model.loc[:,\"horsepower\"]=df_model[\"horsepower\"].fillna(0)\n",
    "n=len(df)\n",
    "n_val=int(n*0.2)\n",
    "n_test=int(n*0.2)\n",
    "n_train=n-n_val-n_test\n",
    "idx=np.arange(n)\n",
    "np.random.seed(42)\n",
    "np.random.shuffle(idx)\n",
    "\n",
    "df_train=df_model.iloc[idx[:n_train]]\n",
    "df_val=df_model.iloc[idx[n_train:n_train+n_val]]\n",
    "df_test=df_model.iloc[idx[n_train+n_val:]]\n",
    "X_train=df_train[['engine_displacement','horsepower','vehicle_weight','model_year']].values\n",
    "y_train=df_train[\"fuel_efficiency_mpg\"].tolist()\n",
    "w0,w=train_linear_regression(X_train,y_train)\n",
    "X_val=df_val[['engine_displacement','horsepower','vehicle_weight','model_year']].values\n",
    "y_val=df_val[\"fuel_efficiency_mpg\"].tolist()\n",
    "y_pred=w0+X_val.dot(w)\n",
    "rmse(y_val, y_pred),round(rmse(y_val, y_pred), 2)\n"
   ]
  },
  {
   "cell_type": "markdown",
   "id": "50e10af2-53ad-464c-9dba-15b93702b1c3",
   "metadata": {},
   "source": [
    "### MODEL 2 (with mean)"
   ]
  },
  {
   "cell_type": "code",
   "execution_count": 13,
   "id": "413273f1-9553-441d-9303-62444160852e",
   "metadata": {},
   "outputs": [
    {
     "data": {
      "text/plain": [
       "(0.46359650423506327, 0.46)"
      ]
     },
     "execution_count": 13,
     "metadata": {},
     "output_type": "execute_result"
    }
   ],
   "source": [
    "def train_linear_regression(X,y):\n",
    "    ones=np.ones(X.shape[0])\n",
    "    X=np.column_stack([ones,X])\n",
    "    XTX=X.T.dot(X)\n",
    "    XTX_inv=np.linalg.inv(XTX)\n",
    "    w_full=XTX_inv.dot(X.T).dot(y)\n",
    "    return w_full[0],w_full[1:]\n",
    "\n",
    "\n",
    "df_model=df.copy()\n",
    "n=len(df)\n",
    "n_val=int(n*0.2)\n",
    "n_test=int(n*0.2)\n",
    "n_train=n-n_val-n_test\n",
    "idx=np.arange(n)\n",
    "np.random.seed(42)\n",
    "np.random.shuffle(idx)\n",
    "\n",
    "df_train=df_model.iloc[idx[:n_train]]\n",
    "df_model.loc[:,\"horsepower\"]=df_model[\"horsepower\"].fillna(df_train[\"horsepower\"].mean())\n",
    "\n",
    "df_train=df_model.iloc[idx[:n_train]]\n",
    "df_val=df_model.iloc[idx[n_train:n_train+n_val]]\n",
    "df_test=df_model.iloc[idx[n_train+n_val:]]\n",
    "X_train=df_train[['engine_displacement','horsepower','vehicle_weight','model_year']].values\n",
    "y_train=df_train[\"fuel_efficiency_mpg\"].tolist()\n",
    "w0,w=train_linear_regression(X_train,y_train)\n",
    "X_val=df_val[['engine_displacement','horsepower','vehicle_weight','model_year']].values\n",
    "y_val=df_val[\"fuel_efficiency_mpg\"].tolist()\n",
    "y_pred=w0+X_val.dot(w)\n",
    "rmse(y_val, y_pred),round(rmse(y_val, y_pred), 2)"
   ]
  },
  {
   "cell_type": "markdown",
   "id": "fb3496ad-9795-4768-82e7-1f7971f2ebe9",
   "metadata": {},
   "source": [
    "\n",
    "##### Answer Question 3: Model 2 is better\n"
   ]
  },
  {
   "cell_type": "markdown",
   "id": "d6d7a45a-da86-4349-bf1a-28d9e2db9ae0",
   "metadata": {},
   "source": [
    "### Question 4\n",
    "\n",
    "* Now let's train a regularized linear regression.\n",
    "* For this question, fill the NAs with 0. \n",
    "* Try different values of `r` from this list: `[0, 0.01, 0.1, 1, 5, 10, 100]`.\n",
    "* Use RMSE to evaluate the model on the validation dataset.\n",
    "* Round the RMSE scores to 2 decimal digits.\n",
    "* Which `r` gives the best RMSE?\n",
    "\n",
    "If multiple options give the same best RMSE, select the smallest `r`.\n",
    "\n",
    "Options:\n",
    "\n",
    "- 0\n",
    "- 0.01\n",
    "- 1\n",
    "- 10\n",
    "- 100"
   ]
  },
  {
   "cell_type": "code",
   "execution_count": 14,
   "id": "40376adf-8a42-45cc-b577-a6aa290fc072",
   "metadata": {},
   "outputs": [
    {
     "data": {
      "text/plain": [
       "{0: (0.52, 0.5173782638857467),\n",
       " 0.01: (0.52, 0.5171115525767522),\n",
       " 0.1: (0.52, 0.5187525130701821),\n",
       " 1: (0.52, 0.5222348802092772),\n",
       " 5: (0.52, 0.5228916092823478),\n",
       " 10: (0.52, 0.5229812979636581),\n",
       " 100: (0.52, 0.5230636233819926)}"
      ]
     },
     "execution_count": 14,
     "metadata": {},
     "output_type": "execute_result"
    }
   ],
   "source": [
    "def train_linear_regression_reg(X,y,r):\n",
    "    ones=np.ones(X.shape[0])\n",
    "    X=np.column_stack([ones,X])\n",
    "    XTX=X.T.dot(X)\n",
    "    XTX=XTX+r*np.eye(XTX.shape[0])\n",
    "    XTX_inv=np.linalg.inv(XTX)\n",
    "    w_full=XTX_inv.dot(X.T).dot(y)\n",
    "    return w_full[0],w_full[1:]\n",
    "\n",
    "df = pd.read_csv(\"car_fuel_efficiency.csv\")\n",
    "df=df[['engine_displacement','horsepower','vehicle_weight','model_year','fuel_efficiency_mpg']]\n",
    "df_model=df.copy()\n",
    "df_model.loc[:,\"horsepower\"]=df_model[\"horsepower\"].fillna(0)\n",
    "\n",
    "\n",
    "n=len(df)\n",
    "n_val=int(n*0.2)\n",
    "n_test=int(n*0.2)\n",
    "n_train=n-n_val-n_test\n",
    "idx=np.arange(n)\n",
    "np.random.seed(42)\n",
    "np.random.shuffle(idx)\n",
    "   \n",
    "    \n",
    "df_train=df_model.iloc[idx[:n_train]]\n",
    "df_val=df_model.iloc[idx[n_train:n_train+n_val]]\n",
    "df_test=df_model.iloc[idx[n_train+n_val:]]\n",
    "X_train=df_train[['engine_displacement','horsepower','vehicle_weight','model_year']].values\n",
    "y_train=df_train[\"fuel_efficiency_mpg\"].tolist()\n",
    "X_val=df_val[['engine_displacement','horsepower','vehicle_weight','model_year']].values\n",
    "y_val=df_val[\"fuel_efficiency_mpg\"].tolist()\n",
    "RMSE={}\n",
    "for r in [0, 0.01, 0.1, 1, 5, 10, 100]:\n",
    "    w0,w=train_linear_regression_reg(X_train,y_train,r)\n",
    "\n",
    "    y_pred=w0+X_val.dot(w)\n",
    "    RMSE[r]=round(rmse(y_val, y_pred), 2),rmse(y_val, y_pred)\n",
    "  \n",
    "RMSE\n"
   ]
  },
  {
   "cell_type": "markdown",
   "id": "452671e2-e859-4338-8b0a-0b46e6fa4456",
   "metadata": {},
   "source": [
    "##### Answer Question 4: 0.01"
   ]
  },
  {
   "cell_type": "markdown",
   "id": "1d981819-ef75-47d8-9705-371c9d150331",
   "metadata": {},
   "source": [
    "### Question 5 \n",
    "\n",
    "* We used seed 42 for splitting the data. Let's find out how selecting the seed influences our score.\n",
    "* Try different seed values: `[0, 1, 2, 3, 4, 5, 6, 7, 8, 9]`.\n",
    "* For each seed, do the train/validation/test split with 60%/20%/20% distribution.\n",
    "* Fill the missing values with 0 and train a model without regularization.\n",
    "* For each seed, evaluate the model on the validation dataset and collect the RMSE scores. \n",
    "* What's the standard deviation of all the scores? To compute the standard deviation, use `np.std`.\n",
    "* Round the result to 3 decimal digits (`round(std, 3)`)\n",
    "\n",
    "What's the value of std?\n",
    "\n",
    "- 0.001\n",
    "- 0.006\n",
    "- 0.060\n",
    "- 0.600\n",
    "\n",
    "> Note: Standard deviation shows how different the values are.\n",
    "> If it's low, then all values are approximately the same.\n",
    "> If it's high, the values are different. \n",
    "> If standard deviation of scores is low, then our model is *stable*.\n"
   ]
  },
  {
   "cell_type": "code",
   "execution_count": 16,
   "id": "08d572fc-f53c-45d4-adac-6577c39e2877",
   "metadata": {},
   "outputs": [
    {
     "data": {
      "text/plain": [
       "0.006"
      ]
     },
     "execution_count": 16,
     "metadata": {},
     "output_type": "execute_result"
    }
   ],
   "source": [
    "df = pd.read_csv(\"car_fuel_efficiency.csv\")\n",
    "df=df[['engine_displacement','horsepower','vehicle_weight','model_year','fuel_efficiency_mpg']]\n",
    "df_model=df.copy()\n",
    "df_model.loc[:,'horsepower']=df_model['horsepower'].fillna(0)\n",
    "df_model['model_year']=2023-df_model['model_year']\n",
    "\n",
    "n=len(df)\n",
    "n_val=int(n*0.2)\n",
    "n_test=int(n*0.2)\n",
    "n_train=n-n_val-n_test\n",
    "idx=np.arange(n)\n",
    "RMSE=[]\n",
    "for x in [0, 1, 2, 3, 4, 5, 6, 7, 8, 9]:\n",
    "    np.random.seed(x)\n",
    "    np.random.shuffle(idx)\n",
    "   \n",
    "    \n",
    "    df_train=df_model.iloc[idx[:n_train]]\n",
    "    df_val=df_model.iloc[idx[n_train:n_train+n_val]]\n",
    "    df_test=df_model.iloc[idx[n_train+n_val:]]\n",
    "    X_train=df_train[['engine_displacement','horsepower','vehicle_weight','model_year']].values\n",
    "    y_train=df_train['fuel_efficiency_mpg'].tolist()\n",
    "    w0,w=train_linear_regression(X_train,y_train)\n",
    "    X_val=df_val[['engine_displacement','horsepower','vehicle_weight','model_year']].values\n",
    "    y_val=df_val['fuel_efficiency_mpg'].tolist()\n",
    "    y_pred=w0+X_val.dot(w)\n",
    "    RMSE.append(rmse(y_val, y_pred))\n",
    "round(np.std(RMSE), 3)\n"
   ]
  },
  {
   "cell_type": "markdown",
   "id": "4b0e2575-76f6-49a7-bf95-a432489db5a3",
   "metadata": {},
   "source": [
    "##### Answer Question 5: 0.006"
   ]
  },
  {
   "cell_type": "markdown",
   "id": "d8ae9529-a406-4506-a09f-ffd43384e326",
   "metadata": {},
   "source": [
    "### Question 6\n",
    "\n",
    "* Split the dataset like previously, use seed 9.\n",
    "* Combine train and validation datasets.\n",
    "* Fill the missing values with 0 and train a model with `r=0.001`. \n",
    "* What's the RMSE on the test dataset?\n",
    "\n",
    "Options:\n",
    "\n",
    "- 0.15\n",
    "- 0.515\n",
    "- 5.15\n",
    "- 51.5"
   ]
  },
  {
   "cell_type": "code",
   "execution_count": 20,
   "id": "6647a777-2f77-4572-837c-529dfa45ea34",
   "metadata": {},
   "outputs": [
    {
     "data": {
      "text/plain": [
       "0.5156261299167999"
      ]
     },
     "execution_count": 20,
     "metadata": {},
     "output_type": "execute_result"
    }
   ],
   "source": [
    "n=len(df)\n",
    "n_val=int(n*0.2)\n",
    "n_test=int(n*0.2)\n",
    "n_train=n-n_val-n_test\n",
    "idx=np.arange(n)\n",
    "np.random.seed(9)\n",
    "np.random.shuffle(idx)\n",
    "df_model=df.copy()\n",
    "df_model.loc[:,'horsepower']=df['horsepower'].fillna(0)\n",
    "\n",
    "df_trainval=df_model.iloc[idx[:n_train+n_val]]\n",
    "df_test=df_model.iloc[idx[n_train+n_val:]]\n",
    "X_train=df_trainval[['engine_displacement','horsepower','vehicle_weight','model_year']].values\n",
    "y_train=df_trainval['fuel_efficiency_mpg'].tolist()\n",
    "w0,w=train_linear_regression_reg(X_train,y_train,0.001)\n",
    "X_val=df_test[['engine_displacement','horsepower','vehicle_weight','model_year']].values\n",
    "y_val=df_test['fuel_efficiency_mpg'].tolist()\n",
    "y_pred=w0+X_val.dot(w)\n",
    "rmse(y_val, y_pred)\n",
    "\n"
   ]
  },
  {
   "cell_type": "markdown",
   "id": "9fb022f6-1d9f-447a-a758-88989d448d46",
   "metadata": {},
   "source": [
    "##### Answer Question 6: 0.515"
   ]
  },
  {
   "cell_type": "code",
   "execution_count": null,
   "id": "03ad7fce-2af5-4e77-bf1d-73a2089d6bac",
   "metadata": {},
   "outputs": [],
   "source": []
  },
  {
   "cell_type": "code",
   "execution_count": null,
   "id": "3d6f94a1-93d4-4996-bb03-728ca5571e59",
   "metadata": {},
   "outputs": [],
   "source": []
  },
  {
   "cell_type": "code",
   "execution_count": null,
   "id": "d3e1e10b-8ccf-4c51-a020-6bd02d03ca2d",
   "metadata": {},
   "outputs": [],
   "source": []
  }
 ],
 "metadata": {
  "kernelspec": {
   "display_name": "Python 3 (ipykernel)",
   "language": "python",
   "name": "python3"
  },
  "language_info": {
   "codemirror_mode": {
    "name": "ipython",
    "version": 3
   },
   "file_extension": ".py",
   "mimetype": "text/x-python",
   "name": "python",
   "nbconvert_exporter": "python",
   "pygments_lexer": "ipython3",
   "version": "3.12.4"
  }
 },
 "nbformat": 4,
 "nbformat_minor": 5
}
